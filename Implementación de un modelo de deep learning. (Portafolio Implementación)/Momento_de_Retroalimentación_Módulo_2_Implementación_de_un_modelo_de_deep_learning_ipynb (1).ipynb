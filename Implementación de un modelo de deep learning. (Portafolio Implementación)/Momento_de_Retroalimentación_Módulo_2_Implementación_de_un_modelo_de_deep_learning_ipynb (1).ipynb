{
  "cells": [
    {
      "cell_type": "markdown",
      "metadata": {
        "id": "5kpVn7iyhSeC"
      },
      "source": [
        "# Importar las librerías"
      ]
    },
    {
      "cell_type": "code",
      "execution_count": null,
      "metadata": {
        "colab": {
          "base_uri": "https://localhost:8080/"
        },
        "id": "cZmPFY49u9bX",
        "outputId": "728c4d0b-a3d0-406a-b973-66b524e95c21"
      },
      "outputs": [
        {
          "output_type": "stream",
          "name": "stdout",
          "text": [
            "Looking in indexes: https://pypi.org/simple, https://us-python.pkg.dev/colab-wheels/public/simple/\n",
            "Requirement already satisfied: pyyaml in /usr/local/lib/python3.7/dist-packages (6.0)\n",
            "Requirement already satisfied: h5py in /usr/local/lib/python3.7/dist-packages (3.1.0)\n",
            "Requirement already satisfied: cached-property in /usr/local/lib/python3.7/dist-packages (from h5py) (1.5.2)\n",
            "Requirement already satisfied: numpy>=1.14.5 in /usr/local/lib/python3.7/dist-packages (from h5py) (1.21.6)\n",
            "/content\n"
          ]
        }
      ],
      "source": [
        "# Instalamos las librerias para exportar el modelo\n",
        "!pip install pyyaml h5py\n",
        "!pwd"
      ]
    },
    {
      "cell_type": "code",
      "execution_count": null,
      "metadata": {
        "id": "E6eiQNh-hNZ3"
      },
      "outputs": [],
      "source": [
        "import matplotlib.pyplot as plt\n",
        "import numpy as np\n",
        "import os\n",
        "import PIL\n",
        "import tensorflow as tf\n",
        "import pathlib\n",
        "from tensorflow import keras\n",
        "from tensorflow.keras import layers\n",
        "from tensorflow.keras.models import Sequential"
      ]
    },
    {
      "cell_type": "markdown",
      "metadata": {
        "id": "csaav0ymhag8"
      },
      "source": [
        "# Conectando con drive"
      ]
    },
    {
      "cell_type": "code",
      "execution_count": null,
      "metadata": {
        "colab": {
          "base_uri": "https://localhost:8080/"
        },
        "id": "9e3GBm9whdKZ",
        "outputId": "6f0cf70b-3637-4258-dc20-8049ae625962"
      },
      "outputs": [
        {
          "output_type": "stream",
          "name": "stdout",
          "text": [
            "Mounted at /content/drive\n",
            "/content/drive/MyDrive/Apuntes/7mo semestre/BootSandalShow\n"
          ]
        }
      ],
      "source": [
        "from google.colab import drive\n",
        "drive.mount('/content/drive')\n",
        "\n",
        "%cd \"/content/drive/MyDrive/Apuntes/7mo semestre/BootSandalShow\""
      ]
    },
    {
      "cell_type": "markdown",
      "metadata": {
        "id": "gQ1kF9TDvQrI"
      },
      "source": [
        "# Definición de parametros"
      ]
    },
    {
      "cell_type": "code",
      "execution_count": null,
      "metadata": {
        "colab": {
          "base_uri": "https://localhost:8080/",
          "height": 35
        },
        "id": "_Z1nTz3HvOTI",
        "outputId": "eb63940f-98f9-47cc-fb83-1f3fa4d34e8c"
      },
      "outputs": [
        {
          "output_type": "execute_result",
          "data": {
            "text/plain": [
              "'/content/drive/MyDrive/Apuntes/7mo semestre/BootSandalShow'"
            ],
            "application/vnd.google.colaboratory.intrinsic+json": {
              "type": "string"
            }
          },
          "metadata": {},
          "execution_count": 4
        }
      ],
      "source": [
        "batch = 128\n",
        "img_height = 100\n",
        "img_width = 100\n",
        "data_dir = os.getcwd()\n",
        "data_dir"
      ]
    },
    {
      "cell_type": "markdown",
      "metadata": {
        "id": "4y9pdkxMs6sb"
      },
      "source": [
        "# Cargando el dataset\n",
        "Cargamos el dataset y dejamos un 20% de los datos para validación"
      ]
    },
    {
      "cell_type": "code",
      "execution_count": null,
      "metadata": {
        "colab": {
          "base_uri": "https://localhost:8080/"
        },
        "id": "Wvs1IdYXvmK0",
        "outputId": "84d16dcc-e0a4-471b-efce-80f6f891ec05"
      },
      "outputs": [
        {
          "output_type": "stream",
          "name": "stdout",
          "text": [
            "Found 15001 files belonging to 3 classes.\n",
            "Using 12001 files for training.\n"
          ]
        }
      ],
      "source": [
        "# Creamos el set de entrenamiento\n",
        "train = tf.keras.utils.image_dataset_from_directory(\n",
        "    data_dir,\n",
        "    validation_split = 0.2,\n",
        "    subset = \"training\",\n",
        "    seed = 123,\n",
        "    image_size = (img_height, img_width),\n",
        "    batch_size=batch\n",
        ")"
      ]
    },
    {
      "cell_type": "code",
      "execution_count": null,
      "metadata": {
        "colab": {
          "base_uri": "https://localhost:8080/"
        },
        "id": "geAtkZsTuWwZ",
        "outputId": "82a9822b-36be-478a-ddb9-38a7654b9992"
      },
      "outputs": [
        {
          "output_type": "stream",
          "name": "stdout",
          "text": [
            "Found 15001 files belonging to 3 classes.\n",
            "Using 3000 files for validation.\n"
          ]
        }
      ],
      "source": [
        "# Creamos el set de validación\n",
        "validation = tf.keras.utils.image_dataset_from_directory(\n",
        "    data_dir,\n",
        "    validation_split = 0.2,\n",
        "    subset= 'validation',\n",
        "    seed = 123,\n",
        "    image_size = (img_height, img_width),\n",
        "    batch_size = batch\n",
        ")"
      ]
    },
    {
      "cell_type": "markdown",
      "metadata": {
        "id": "MaaLbvEDwlQF"
      },
      "source": [
        "Estos son los nombres de las clases"
      ]
    },
    {
      "cell_type": "code",
      "execution_count": null,
      "metadata": {
        "colab": {
          "base_uri": "https://localhost:8080/"
        },
        "id": "FnvPqocFw8sd",
        "outputId": "4c556ea8-02d5-4159-e6ea-50003fcd2f4c"
      },
      "outputs": [
        {
          "output_type": "stream",
          "name": "stdout",
          "text": [
            "['Boot', 'Sandal', 'Shoe']\n"
          ]
        }
      ],
      "source": [
        "class_names = train.class_names\n",
        "print(class_names)"
      ]
    },
    {
      "cell_type": "markdown",
      "metadata": {
        "id": "VjVfgYkdxCQH"
      },
      "source": [
        "Vamos a visualizar el conjunto de datos"
      ]
    },
    {
      "cell_type": "code",
      "execution_count": null,
      "metadata": {
        "colab": {
          "base_uri": "https://localhost:8080/",
          "height": 35
        },
        "id": "JGcEZ4kVxEQw",
        "outputId": "418a9016-d6ef-429f-9e21-fbc3498d0d40"
      },
      "outputs": [
        {
          "output_type": "execute_result",
          "data": {
            "text/plain": [
              "\"plt.figure(figsize=(12,12))\\nfor images, labels in train.take(1):\\n  for i in range(9):\\n    ax = plt.subplot(3,3, i + 1)\\n    plt.imshow(images[i].numpy().astype('uint8'))\\n    plt.title(class_names[labels[i]])\\n    plt.axis('off')\""
            ],
            "application/vnd.google.colaboratory.intrinsic+json": {
              "type": "string"
            }
          },
          "metadata": {},
          "execution_count": 8
        }
      ],
      "source": [
        "plt.figure(figsize=(12,12))\n",
        "for images, labels in train.take(1):\n",
        "  for i in range(9):\n",
        "    ax = plt.subplot(3,3, i + 1)\n",
        "    plt.imshow(images[i].numpy().astype('uint8'))\n",
        "    plt.title(class_names[labels[i]])\n",
        "    plt.axis('off')"
      ]
    },
    {
      "cell_type": "markdown",
      "metadata": {
        "id": "QE5fJGtCAQ7S"
      },
      "source": [
        "Vemos las dimensiones de nuestras iamgenes"
      ]
    },
    {
      "cell_type": "code",
      "execution_count": null,
      "metadata": {
        "colab": {
          "base_uri": "https://localhost:8080/"
        },
        "id": "MwPTyI4xAOMT",
        "outputId": "67ceb88c-4181-4981-f1ec-45c9132ac138"
      },
      "outputs": [
        {
          "output_type": "stream",
          "name": "stdout",
          "text": [
            "(128, 100, 100, 3)\n",
            "(128,)\n"
          ]
        }
      ],
      "source": [
        "for image_batch, labels_batch in train:\n",
        "  print(image_batch.shape)\n",
        "  print(labels_batch.shape)\n",
        "  break"
      ]
    },
    {
      "cell_type": "markdown",
      "metadata": {
        "id": "8z64iEx10Ybz"
      },
      "source": [
        "#Configurando el dataset\n",
        "Necesitamos configurar nuestro dataset para obtener los datos desde el búfer del disco y evitar un bloqueo durante la escritura o lectura.\n",
        "\n",
        "Usaremos Dataset.cache para mantener las imágenes en la memoria después de la primera época para evitar un cuello de botella durante el entrenamiento.\n",
        "También usaremos Dataset.prefetch para superponer el procesamiento de datos y la ejecución del modelo mientras entrenamos el modelo."
      ]
    },
    {
      "cell_type": "code",
      "execution_count": null,
      "metadata": {
        "id": "qOQB-Jhg1B8B"
      },
      "outputs": [],
      "source": [
        "AUTOTUNE = tf.data.AUTOTUNE\n",
        "\n",
        "train_ds = train.cache().shuffle(1000).prefetch(buffer_size=AUTOTUNE)\n",
        "val_ds = validation.cache().prefetch(buffer_size=AUTOTUNE)"
      ]
    },
    {
      "cell_type": "markdown",
      "metadata": {
        "id": "c72lCZi52BhF"
      },
      "source": [
        "# Creación del modelo\n",
        "Vamos realizar un modelo convolutivo secuencial con una primera capa de rescaling para normalizar nuestros datos de entrada del rango de 0-255 a 0-1, tres bloques de convolución 2D, 3 capas de maxpooling2d utilizando la activación 'relu' para que la red neuronal pueda encontrar patrones en las imágenes, una capa de flatten para cambiar las dimensiones de la imagen, una capa densa de 256 neuronas y la siguiente con la cantidad de neuronas equivalente al número de clases que tenemos. "
      ]
    },
    {
      "cell_type": "code",
      "execution_count": null,
      "metadata": {
        "id": "4O0kha_w2BPZ"
      },
      "outputs": [],
      "source": [
        "num_classes = len(class_names)\n",
        "\n",
        "model = Sequential([\n",
        "  layers.Rescaling(1./255, input_shape=(100, 100, 3)),\n",
        "  layers.Conv2D(16, 3, padding='same', activation='relu'),\n",
        "  layers.MaxPooling2D(),\n",
        "  layers.Conv2D(32, 3, padding='same', activation='relu'),\n",
        "  layers.MaxPooling2D(),\n",
        "  layers.Conv2D(64, 3, padding='same', activation='relu'),\n",
        "  layers.MaxPooling2D(),\n",
        "  layers.Flatten(),\n",
        "  layers.Dense(256, activation='relu'),\n",
        "  layers.Dense(num_classes)\n",
        "])"
      ]
    },
    {
      "cell_type": "markdown",
      "metadata": {
        "id": "Ean2krjo5TdL"
      },
      "source": [
        "# Compilando el modelo\n",
        "Para este modelo vamos a utilizar el optimizador Adam y la función de pérdida sparse categorical cross-entropy y un learning rate de 0.00001"
      ]
    },
    {
      "cell_type": "code",
      "execution_count": null,
      "metadata": {
        "id": "ZSEU-T9r5N3h"
      },
      "outputs": [],
      "source": [
        "model.compile(optimizer=keras.optimizers.Adam(learning_rate=0.00001),\n",
        "              loss=tf.keras.losses.SparseCategoricalCrossentropy(from_logits=True),\n",
        "              metrics=['accuracy'])"
      ]
    },
    {
      "cell_type": "code",
      "execution_count": null,
      "metadata": {
        "colab": {
          "base_uri": "https://localhost:8080/"
        },
        "id": "IgR_wAni5Qyu",
        "outputId": "9e43c9bf-f8da-4759-af5f-cad85a583cb5"
      },
      "outputs": [
        {
          "output_type": "stream",
          "name": "stdout",
          "text": [
            "Model: \"sequential\"\n",
            "_________________________________________________________________\n",
            " Layer (type)                Output Shape              Param #   \n",
            "=================================================================\n",
            " rescaling (Rescaling)       (None, 100, 100, 3)       0         \n",
            "                                                                 \n",
            " conv2d (Conv2D)             (None, 100, 100, 16)      448       \n",
            "                                                                 \n",
            " max_pooling2d (MaxPooling2D  (None, 50, 50, 16)       0         \n",
            " )                                                               \n",
            "                                                                 \n",
            " conv2d_1 (Conv2D)           (None, 50, 50, 32)        4640      \n",
            "                                                                 \n",
            " max_pooling2d_1 (MaxPooling  (None, 25, 25, 32)       0         \n",
            " 2D)                                                             \n",
            "                                                                 \n",
            " conv2d_2 (Conv2D)           (None, 25, 25, 64)        18496     \n",
            "                                                                 \n",
            " max_pooling2d_2 (MaxPooling  (None, 12, 12, 64)       0         \n",
            " 2D)                                                             \n",
            "                                                                 \n",
            " flatten (Flatten)           (None, 9216)              0         \n",
            "                                                                 \n",
            " dense (Dense)               (None, 256)               2359552   \n",
            "                                                                 \n",
            " dense_1 (Dense)             (None, 3)                 771       \n",
            "                                                                 \n",
            "=================================================================\n",
            "Total params: 2,383,907\n",
            "Trainable params: 2,383,907\n",
            "Non-trainable params: 0\n",
            "_________________________________________________________________\n"
          ]
        }
      ],
      "source": [
        "model.summary()"
      ]
    },
    {
      "cell_type": "markdown",
      "metadata": {
        "id": "YJl5EOQJ5vWh"
      },
      "source": [
        "Como vemos, nuestro modelo nos dice que tenemos más de 1,500,000 parámetros entrenables. Debemos tener cuidado de que estos parámetros no hagan overfit."
      ]
    },
    {
      "cell_type": "markdown",
      "metadata": {
        "id": "pnO6yH6-6A0G"
      },
      "source": [
        "#Entrenando el modelo\n",
        "Vamos a entrenar el modelo con 10 épocas para tratar de no caer en overfitting."
      ]
    },
    {
      "cell_type": "code",
      "execution_count": null,
      "metadata": {
        "colab": {
          "base_uri": "https://localhost:8080/"
        },
        "id": "F_TBwZJH6AQf",
        "outputId": "f67cd41c-798d-410c-e890-e9ac30bd6f63"
      },
      "outputs": [
        {
          "output_type": "stream",
          "name": "stdout",
          "text": [
            "Epoch 1/10\n",
            "94/94 [==============================] - 993s 11s/step - loss: 1.0001 - accuracy: 0.6374 - val_loss: 0.8953 - val_accuracy: 0.7200\n",
            "Epoch 2/10\n",
            "94/94 [==============================] - 148s 2s/step - loss: 0.7888 - accuracy: 0.7564 - val_loss: 0.6767 - val_accuracy: 0.7967\n",
            "Epoch 3/10\n",
            "94/94 [==============================] - 145s 2s/step - loss: 0.6075 - accuracy: 0.7997 - val_loss: 0.5317 - val_accuracy: 0.8153\n",
            "Epoch 4/10\n",
            "94/94 [==============================] - 145s 2s/step - loss: 0.4929 - accuracy: 0.8358 - val_loss: 0.4316 - val_accuracy: 0.8710\n",
            "Epoch 5/10\n",
            "94/94 [==============================] - 143s 2s/step - loss: 0.4190 - accuracy: 0.8627 - val_loss: 0.3713 - val_accuracy: 0.8877\n",
            "Epoch 6/10\n",
            "94/94 [==============================] - 145s 2s/step - loss: 0.3665 - accuracy: 0.8822 - val_loss: 0.3301 - val_accuracy: 0.8997\n",
            "Epoch 7/10\n",
            "94/94 [==============================] - 142s 1s/step - loss: 0.3323 - accuracy: 0.8911 - val_loss: 0.3021 - val_accuracy: 0.9023\n",
            "Epoch 8/10\n",
            "94/94 [==============================] - 142s 1s/step - loss: 0.3071 - accuracy: 0.8970 - val_loss: 0.2833 - val_accuracy: 0.9013\n",
            "Epoch 9/10\n",
            "94/94 [==============================] - 144s 2s/step - loss: 0.2895 - accuracy: 0.9016 - val_loss: 0.2703 - val_accuracy: 0.9040\n",
            "Epoch 10/10\n",
            "94/94 [==============================] - 145s 2s/step - loss: 0.2733 - accuracy: 0.9072 - val_loss: 0.2541 - val_accuracy: 0.9160\n"
          ]
        }
      ],
      "source": [
        "epochs = 10\n",
        "history = model.fit(\n",
        "  train,\n",
        "  validation_data=validation,\n",
        "  epochs=epochs\n",
        ")"
      ]
    },
    {
      "cell_type": "markdown",
      "metadata": {
        "id": "SJEU2JAtEP0R"
      },
      "source": [
        "Tenemos una exactitud muy buena del 90%. Vamos a ver gráficamente los resultados entre el validation accuracy y el accuracy."
      ]
    },
    {
      "cell_type": "markdown",
      "metadata": {
        "id": "03JUD5fKFZWm"
      },
      "source": [
        "# Visualizando los resultados del entrenamiento"
      ]
    },
    {
      "cell_type": "code",
      "execution_count": null,
      "metadata": {
        "colab": {
          "base_uri": "https://localhost:8080/",
          "height": 499
        },
        "id": "gSTZ6FMbFe0n",
        "outputId": "f5c4bfba-1244-4d66-fcba-41d9f144d675"
      },
      "outputs": [
        {
          "output_type": "display_data",
          "data": {
            "text/plain": [
              "<Figure size 576x576 with 2 Axes>"
            ],
            "image/png": "[encoded data removed]"
          },
          "metadata": {
            "needs_background": "light"
          }
        }
      ],
      "source": [
        "acc = history.history['accuracy']\n",
        "val_acc = history.history['val_accuracy']\n",
        "\n",
        "loss = history.history['loss']\n",
        "val_loss = history.history['val_loss']\n",
        "\n",
        "epochs_range = range(epochs)\n",
        "\n",
        "plt.figure(figsize=(8, 8))\n",
        "plt.subplot(1, 2, 1)\n",
        "plt.plot(epochs_range, acc, label='Training Accuracy')\n",
        "plt.plot(epochs_range, val_acc, label='Validation Accuracy')\n",
        "plt.legend(loc='lower right')\n",
        "plt.title('Training and Validation Accuracy')\n",
        "\n",
        "plt.subplot(1, 2, 2)\n",
        "plt.plot(epochs_range, loss, label='Training Loss')\n",
        "plt.plot(epochs_range, val_loss, label='Validation Loss')\n",
        "plt.legend(loc='upper right')\n",
        "plt.title('Training and Validation Loss')\n",
        "plt.show()"
      ]
    },
    {
      "cell_type": "markdown",
      "metadata": {
        "id": "JEvuHk-bEWrU"
      },
      "source": [
        "Como podemos ver, nuestro validation accuracy y nuestro validation loss están muy cercanos a nuestro training accuracy y nuestro training loss. Esto nos indica que es posible que no hayamos caído en overfitting y nuestro modelo generaliza bien. Vamos a ver qué tal se desempeña."
      ]
    },
    {
      "cell_type": "markdown",
      "metadata": {
        "id": "IVL0cXhLNsg2"
      },
      "source": [
        "# Predicción con datos no vistos"
      ]
    },
    {
      "cell_type": "code",
      "execution_count": null,
      "metadata": {
        "colab": {
          "base_uri": "https://localhost:8080/"
        },
        "id": "DtSnjB1XNuUh",
        "outputId": "56cf1b22-6c07-424c-e523-66cac7a68103"
      },
      "outputs": [
        {
          "output_type": "stream",
          "name": "stdout",
          "text": [
            "Downloading data from https://m.media-amazon.com/images/I/71zPHz0WzVL._AC_SY695_.jpg\n",
            "30669/30669 [==============================] - 0s 0us/step\n",
            "1/1 [==============================] - 0s 151ms/step\n",
            "This image of a boot most likely belongs to Boot with a 90.83 percent confidence.\n",
            "Downloading data from https://sieteleguas.mx/3156-home_default/bota-roper-siete-leguas-track-en-piel-crazy-cafe-est-1000.jpg\n",
            "23477/23477 [==============================] - 0s 0us/step\n",
            "1/1 [==============================] - 0s 23ms/step\n",
            "This image of a boot most likely belongs to Boot with a 85.17 percent confidence.\n",
            "Downloading data from https://ss550.liverpool.com.mx/sm/1111898281.jpg\n",
            "10362/10362 [==============================] - 0s 0us/step\n",
            "1/1 [==============================] - 0s 23ms/step\n",
            "This image of a sandal most likely belongs to Sandal with a 92.68 percent confidence.\n",
            "Downloading data from https://res.cloudinary.com/walmart-labs/image/upload/d_default.jpg/w_960,dpr_auto,f_auto,q_auto:best/gr/images/product-images/img_large/00750120630865L.jpg\n",
            "60396/60396 [==============================] - 0s 0us/step\n",
            "1/1 [==============================] - 0s 29ms/step\n",
            "This image of a sandal most likely belongs to Sandal with a 89.74 percent confidence.\n",
            "Downloading data from https://dsnegsjxz63ti.cloudfront.net/images/pg/g_326057f0f6d6ee2.jpg\n",
            "82708/82708 [==============================] - 0s 0us/step\n",
            "1/1 [==============================] - 0s 27ms/step\n",
            "This image of a shoe most likely belongs to Sandal with a 65.05 percent confidence.\n",
            "Downloading data from https://dpjye2wk9gi5z.cloudfront.net/wcsstore/ExtendedSitesCatalogAssetStore/images/catalog/default/1023869-0001V1.jpg\n",
            "48689/48689 [==============================] - 0s 0us/step\n",
            "1/1 [==============================] - 0s 24ms/step\n",
            "This image of a shoe most likely belongs to Sandal with a 59.13 percent confidence.\n",
            "Downloading data from https://media.vogue.mx/photos/5c070382a5382b140c0efb1e/master/w_1800,h_1201,c_limit/los_10_tenis_mas_iconicos_que_te_duraran_toda_la_vida_imagenes_278478343.jpg\n",
            "155013/155013 [==============================] - 0s 0us/step\n",
            "1/1 [==============================] - 0s 24ms/step\n",
            "This image of a shoe most likely belongs to Sandal with a 96.54 percent confidence.\n"
          ]
        }
      ],
      "source": [
        "from uuid import uuid4\n",
        "from time import sleep\n",
        "# Botas\n",
        "# Botas\n",
        "botas = [\n",
        "    \"https://m.media-amazon.com/images/I/71zPHz0WzVL._AC_SY695_.jpg\",\n",
        "    \"https://sieteleguas.mx/3156-home_default/bota-roper-siete-leguas-track-en-piel-crazy-cafe-est-1000.jpg\",\n",
        "    \"http://cdn.shopify.com/s/files/1/0093/2144/7505/products/Alamo_Miel-Lateral1_1.jpg?v=1637171538\",\n",
        "    \"http://cdn.shopify.com/s/files/1/0241/9654/6624/products/cypress-black_grande.jpg?v=1664358198\"\n",
        "]\n",
        "\n",
        "# Sandalias\n",
        "sandalias = [\n",
        "    \"https://ss550.liverpool.com.mx/sm/1111898281.jpg\",\n",
        "    \"https://res.cloudinary.com/walmart-labs/image/upload/d_default.jpg/w_960,dpr_auto,f_auto,q_auto:best/gr/images/product-images/img_large/00750120630865L.jpg\",\n",
        "    \"https://cdn1.coppel.com/images/catalog/pr/8246302-1.jpg\",\n",
        "    \"https://ss550.liverpool.com.mx/sm/1118218430.jpg\"\n",
        "]\n",
        "\n",
        "# Tenis\n",
        "tenis = [\"https://dsnegsjxz63ti.cloudfront.net/images/pg/g_326057f0f6d6ee2.jpg\",\n",
        "         \"https://media.vogue.mx/photos/5c070382a5382b140c0efb1e/master/w_1800,h_1201,c_limit/los_10_tenis_mas_iconicos_que_te_duraran_toda_la_vida_imagenes_278478343.jpg\"\n",
        "         \"https://dpjye2wk9gi5z.cloudfront.net/wcsstore/ExtendedSitesCatalogAssetStore/images/catalog/default/1023869-0001V1.jpg\",\n",
        "         \"https://media.vogue.mx/photos/5c070382a5382b140c0efb1e/master/w_1800,h_1201,c_limit/los_10_tenis_mas_iconicos_que_te_duraran_toda_la_vida_imagenes_278478343.jpg\",\n",
        "         \"https://images.puma.com/image/upload/f_auto,q_auto,b_rgb:fafafa,w_480,h_480/global/384692/07/sv01/fnd/MEX/fmt/png/\"]\n",
        "\n",
        "tests = botas + sandalias + tenis\n",
        "names = [['boot'] * len(botas),['sandal'] * len(sandalias), ['shoe'] * len(tenis)]\n",
        "names = [item for sublist in names for item in sublist]\n",
        "total = len(tests)\n",
        "i = 0\n",
        "for url in tests:\n",
        "  name = uuid4()\n",
        "  try:\n",
        "    path = tf.keras.utils.get_file(str(name), origin=url)\n",
        "    img = tf.keras.utils.load_img(\n",
        "      path, target_size = (100, 100)\n",
        "    )\n",
        "    img_array = tf.keras.utils.img_to_array(img)\n",
        "    img_array = tf.expand_dims(img_array, 0) # Create a batch\n",
        "\n",
        "    predictions = model.predict(img_array)\n",
        "    score = tf.nn.softmax(predictions[0])\n",
        "    print(\n",
        "        \"This image of a {} most likely belongs to {} with a {:.2f} percent confidence.\"\n",
        "        .format(names[i], class_names[np.argmax(score)], 100 * np.max(score))\n",
        "    )\n",
        "    i += 1\n",
        "  except Exception as e:\n",
        "    print(e)\n",
        " \n",
        "  "
      ]
    },
    {
      "cell_type": "markdown",
      "metadata": {
        "id": "affKmJXyDcEQ"
      },
      "source": [
        "Nuestro modelo es relativamente bueno, sin embargo, se confunde con las sandalias y los tenis."
      ]
    },
    {
      "cell_type": "markdown",
      "metadata": {
        "id": "mqkFpo0gDYTx"
      },
      "source": [
        "# Tratando de mejorar el modelo\n",
        "Como podemos ver anteriormente, nuestro modelo clasifica todo como sandalias.\n",
        "Vamos a intentar mejorar el modelo cambiando hiperparámetros y modificando la arquitectura"
      ]
    },
    {
      "cell_type": "markdown",
      "source": [
        "Vamos a añadir a la arquitectura dos capas de data augmentation: \n",
        "* Una capa de \"volteo\" de la imagen de forma aleatoria\n",
        "* Una capa de rotación aleatoria.\n",
        "\n",
        "También añadimos una capa de Dropout con un 20% de dropout justo antes de la última capa densa de 256 neuronas."
      ],
      "metadata": {
        "id": "QdH-LDWPEvXz"
      }
    },
    {
      "cell_type": "code",
      "execution_count": null,
      "metadata": {
        "id": "RGAWXF9zDXsu"
      },
      "outputs": [],
      "source": [
        "num_classes = len(class_names)\n",
        "\n",
        "model = Sequential([\n",
        "    layers.RandomFlip(\"horizontal\",\n",
        "                      input_shape=(img_height,\n",
        "                                  img_width,\n",
        "                                  3)),\n",
        "    layers.RandomRotation(0.1),\n",
        "  layers.Rescaling(1./255, input_shape=(100, 100, 3)),\n",
        "  layers.Conv2D(16, 3, padding='same', activation='relu'),\n",
        "  layers.MaxPooling2D(),\n",
        "  layers.Conv2D(16, 3, padding='same', activation='relu'),\n",
        "  layers.MaxPooling2D(),\n",
        "  layers.Conv2D(16, 3, padding='same', activation='relu'),\n",
        "  layers.MaxPooling2D(),\n",
        "  layers.Dropout(0.2),\n",
        "  layers.Flatten(),\n",
        "  layers.Dense(256, activation='relu'),\n",
        "  layers.Dense(num_classes)\n",
        "])\n"
      ]
    },
    {
      "cell_type": "markdown",
      "source": [
        "Después, cambiamos el learning rate por uno más grande de 0.00001 a 0.001"
      ],
      "metadata": {
        "id": "HEqT1BjuFQGF"
      }
    },
    {
      "cell_type": "code",
      "execution_count": null,
      "metadata": {
        "id": "Xd5gS9d1Dqap"
      },
      "outputs": [],
      "source": [
        "model.compile(optimizer=keras.optimizers.Adam(learning_rate=0.001),\n",
        "              loss=tf.keras.losses.SparseCategoricalCrossentropy(from_logits=True),\n",
        "              metrics=['accuracy'])"
      ]
    },
    {
      "cell_type": "code",
      "execution_count": null,
      "metadata": {
        "colab": {
          "base_uri": "https://localhost:8080/"
        },
        "id": "4XFzwWXJDtCi",
        "outputId": "4d61ebb8-a33f-442e-8eee-468fbd37729e"
      },
      "outputs": [
        {
          "output_type": "stream",
          "name": "stdout",
          "text": [
            "Model: \"sequential_4\"\n",
            "_________________________________________________________________\n",
            " Layer (type)                Output Shape              Param #   \n",
            "=================================================================\n",
            " random_flip_3 (RandomFlip)  (None, 100, 100, 3)       0         \n",
            "                                                                 \n",
            " random_rotation_3 (RandomRo  (None, 100, 100, 3)      0         \n",
            " tation)                                                         \n",
            "                                                                 \n",
            " rescaling_4 (Rescaling)     (None, 100, 100, 3)       0         \n",
            "                                                                 \n",
            " conv2d_12 (Conv2D)          (None, 100, 100, 16)      448       \n",
            "                                                                 \n",
            " max_pooling2d_12 (MaxPoolin  (None, 50, 50, 16)       0         \n",
            " g2D)                                                            \n",
            "                                                                 \n",
            " conv2d_13 (Conv2D)          (None, 50, 50, 16)        2320      \n",
            "                                                                 \n",
            " max_pooling2d_13 (MaxPoolin  (None, 25, 25, 16)       0         \n",
            " g2D)                                                            \n",
            "                                                                 \n",
            " conv2d_14 (Conv2D)          (None, 25, 25, 16)        2320      \n",
            "                                                                 \n",
            " max_pooling2d_14 (MaxPoolin  (None, 12, 12, 16)       0         \n",
            " g2D)                                                            \n",
            "                                                                 \n",
            " dropout_6 (Dropout)         (None, 12, 12, 16)        0         \n",
            "                                                                 \n",
            " flatten_4 (Flatten)         (None, 2304)              0         \n",
            "                                                                 \n",
            " dense_8 (Dense)             (None, 256)               590080    \n",
            "                                                                 \n",
            " dense_9 (Dense)             (None, 3)                 771       \n",
            "                                                                 \n",
            "=================================================================\n",
            "Total params: 595,939\n",
            "Trainable params: 595,939\n",
            "Non-trainable params: 0\n",
            "_________________________________________________________________\n"
          ]
        }
      ],
      "source": [
        "model.summary()"
      ]
    },
    {
      "cell_type": "markdown",
      "source": [
        "Finalmente, vamos a cambiar las épocas de entrenamiento a 20 épocas."
      ],
      "metadata": {
        "id": "qyNCwLL_FYqd"
      }
    },
    {
      "cell_type": "code",
      "execution_count": null,
      "metadata": {
        "colab": {
          "base_uri": "https://localhost:8080/"
        },
        "id": "MBj9unl7Du6X",
        "outputId": "2bb86b60-b4df-46c4-a63b-9936cfea4ff6"
      },
      "outputs": [
        {
          "output_type": "stream",
          "name": "stdout",
          "text": [
            "Epoch 1/20\n",
            "94/94 [==============================] - 128s 1s/step - loss: 0.7104 - accuracy: 0.6779 - val_loss: 0.4134 - val_accuracy: 0.8420\n",
            "Epoch 2/20\n",
            "94/94 [==============================] - 118s 1s/step - loss: 0.4560 - accuracy: 0.8165 - val_loss: 0.3275 - val_accuracy: 0.8797\n",
            "Epoch 3/20\n",
            "94/94 [==============================] - 123s 1s/step - loss: 0.3736 - accuracy: 0.8502 - val_loss: 0.2755 - val_accuracy: 0.9053\n",
            "Epoch 4/20\n",
            "94/94 [==============================] - 118s 1s/step - loss: 0.3222 - accuracy: 0.8725 - val_loss: 0.2686 - val_accuracy: 0.8970\n",
            "Epoch 5/20\n",
            "94/94 [==============================] - 123s 1s/step - loss: 0.2788 - accuracy: 0.8941 - val_loss: 0.2013 - val_accuracy: 0.9300\n",
            "Epoch 6/20\n",
            "94/94 [==============================] - 119s 1s/step - loss: 0.2390 - accuracy: 0.9128 - val_loss: 0.1842 - val_accuracy: 0.9373\n",
            "Epoch 7/20\n",
            "94/94 [==============================] - 122s 1s/step - loss: 0.2125 - accuracy: 0.9243 - val_loss: 0.1682 - val_accuracy: 0.9420\n",
            "Epoch 8/20\n",
            "94/94 [==============================] - 119s 1s/step - loss: 0.2024 - accuracy: 0.9256 - val_loss: 0.1357 - val_accuracy: 0.9510\n",
            "Epoch 9/20\n",
            "94/94 [==============================] - 118s 1s/step - loss: 0.1863 - accuracy: 0.9311 - val_loss: 0.1405 - val_accuracy: 0.9520\n",
            "Epoch 10/20\n",
            "94/94 [==============================] - 118s 1s/step - loss: 0.1714 - accuracy: 0.9371 - val_loss: 0.1469 - val_accuracy: 0.9510\n",
            "Epoch 11/20\n",
            "94/94 [==============================] - 120s 1s/step - loss: 0.1589 - accuracy: 0.9419 - val_loss: 0.1941 - val_accuracy: 0.9253\n",
            "Epoch 12/20\n",
            "94/94 [==============================] - 119s 1s/step - loss: 0.1546 - accuracy: 0.9428 - val_loss: 0.1144 - val_accuracy: 0.9620\n",
            "Epoch 13/20\n",
            "94/94 [==============================] - 119s 1s/step - loss: 0.1442 - accuracy: 0.9482 - val_loss: 0.1211 - val_accuracy: 0.9573\n",
            "Epoch 14/20\n",
            "94/94 [==============================] - 123s 1s/step - loss: 0.1317 - accuracy: 0.9528 - val_loss: 0.1306 - val_accuracy: 0.9573\n",
            "Epoch 15/20\n",
            "94/94 [==============================] - 119s 1s/step - loss: 0.1318 - accuracy: 0.9525 - val_loss: 0.1093 - val_accuracy: 0.9607\n",
            "Epoch 16/20\n",
            "94/94 [==============================] - 123s 1s/step - loss: 0.1207 - accuracy: 0.9563 - val_loss: 0.1039 - val_accuracy: 0.9623\n",
            "Epoch 17/20\n",
            "94/94 [==============================] - 120s 1s/step - loss: 0.1153 - accuracy: 0.9583 - val_loss: 0.0944 - val_accuracy: 0.9660\n",
            "Epoch 18/20\n",
            "94/94 [==============================] - 124s 1s/step - loss: 0.1137 - accuracy: 0.9595 - val_loss: 0.1094 - val_accuracy: 0.9633\n",
            "Epoch 19/20\n",
            "94/94 [==============================] - 120s 1s/step - loss: 0.1169 - accuracy: 0.9594 - val_loss: 0.0917 - val_accuracy: 0.9660\n",
            "Epoch 20/20\n",
            "94/94 [==============================] - 124s 1s/step - loss: 0.1038 - accuracy: 0.9643 - val_loss: 0.0892 - val_accuracy: 0.9687\n"
          ]
        }
      ],
      "source": [
        "epochs = 20\n",
        "history = model.fit(\n",
        "  train,\n",
        "  validation_data=validation,\n",
        "  epochs=epochs\n",
        ")"
      ]
    },
    {
      "cell_type": "markdown",
      "source": [
        "Graficamos"
      ],
      "metadata": {
        "id": "oyBAqvZnFccg"
      }
    },
    {
      "cell_type": "code",
      "execution_count": null,
      "metadata": {
        "colab": {
          "base_uri": "https://localhost:8080/",
          "height": 499
        },
        "id": "9EiHi9KhDwfv",
        "outputId": "e4038584-dbfe-48c6-ebb3-a82e61ad9aac"
      },
      "outputs": [
        {
          "output_type": "display_data",
          "data": {
            "text/plain": [
              "<Figure size 576x576 with 2 Axes>"
            ],
            "image/png": "[encoded data removed]"
          },
          "metadata": {
            "needs_background": "light"
          }
        }
      ],
      "source": [
        "acc = history.history['accuracy']\n",
        "val_acc = history.history['val_accuracy']\n",
        "\n",
        "loss = history.history['loss']\n",
        "val_loss = history.history['val_loss']\n",
        "\n",
        "epochs_range = range(epochs)\n",
        "\n",
        "plt.figure(figsize=(8, 8))\n",
        "plt.subplot(1, 2, 1)\n",
        "plt.plot(epochs_range, acc, label='Training Accuracy')\n",
        "plt.plot(epochs_range, val_acc, label='Validation Accuracy')\n",
        "plt.legend(loc='lower right')\n",
        "plt.title('Training and Validation Accuracy')\n",
        "\n",
        "plt.subplot(1, 2, 2)\n",
        "plt.plot(epochs_range, loss, label='Training Loss')\n",
        "plt.plot(epochs_range, val_loss, label='Validation Loss')\n",
        "plt.legend(loc='upper right')\n",
        "plt.title('Training and Validation Loss')\n",
        "plt.show()"
      ]
    },
    {
      "cell_type": "markdown",
      "source": [
        "Como podemos ver, nuestro accuracy de entrenamiento y el de validación terminaron muy cercanos entre ellos y muy cercanos a 1. Eso quiere decir que nuestro modelo es capaz de clasificar correctamente el 96% de las imágenes.\n",
        "Ahora vamos a tratar nuevamente con datos no vistos."
      ],
      "metadata": {
        "id": "akgRFxU0FeRZ"
      }
    },
    {
      "cell_type": "code",
      "execution_count": null,
      "metadata": {
        "colab": {
          "base_uri": "https://localhost:8080/"
        },
        "id": "B1KvauYHDx1_",
        "outputId": "160bc4a5-f91d-41df-9ba5-098f62d86f29"
      },
      "outputs": [
        {
          "output_type": "stream",
          "name": "stdout",
          "text": [
            "Downloading data from https://m.media-amazon.com/images/I/71zPHz0WzVL._AC_SY695_.jpg\n",
            "30669/30669 [==============================] - 0s 0us/step\n",
            "1/1 [==============================] - 0s 23ms/step\n",
            "This boot is a Boot with a 65.91 percent confidence.\n",
            "\n",
            "Downloading data from https://sieteleguas.mx/3156-home_default/bota-roper-siete-leguas-track-en-piel-crazy-cafe-est-1000.jpg\n",
            "23477/23477 [==============================] - 0s 0us/step\n",
            "1/1 [==============================] - 0s 23ms/step\n",
            "This boot is a Boot with a 96.48 percent confidence.\n",
            "\n",
            "Downloading data from http://cdn.shopify.com/s/files/1/0093/2144/7505/products/Alamo_Miel-Lateral1_1.jpg?v=1637171538\n",
            "107947/107947 [==============================] - 0s 0us/step\n",
            "1/1 [==============================] - 0s 24ms/step\n",
            "This boot is a Boot with a 99.99 percent confidence.\n",
            "\n",
            "Downloading data from http://cdn.shopify.com/s/files/1/0241/9654/6624/products/cypress-black_grande.jpg?v=1664358198\n",
            "13731/13731 [==============================] - 0s 0us/step\n",
            "1/1 [==============================] - 0s 25ms/step\n",
            "This boot is a Boot with a 80.92 percent confidence.\n",
            "\n",
            "Downloading data from https://ss550.liverpool.com.mx/sm/1111898281.jpg\n",
            "10362/10362 [==============================] - 0s 0us/step\n",
            "1/1 [==============================] - 0s 33ms/step\n",
            "This sandal is a Sandal with a 94.44 percent confidence.\n",
            "\n",
            "Downloading data from https://res.cloudinary.com/walmart-labs/image/upload/d_default.jpg/w_960,dpr_auto,f_auto,q_auto:best/gr/images/product-images/img_large/00750120630865L.jpg\n",
            "60396/60396 [==============================] - 0s 0us/step\n",
            "1/1 [==============================] - 0s 23ms/step\n",
            "This sandal is a Sandal with a 95.73 percent confidence.\n",
            "\n",
            "Downloading data from https://cdn1.coppel.com/images/catalog/pr/8246302-1.jpg\n",
            "98270/98270 [==============================] - 0s 1us/step\n",
            "1/1 [==============================] - 0s 25ms/step\n",
            "This sandal is a Shoe with a 96.91 percent confidence.\n",
            "\n",
            "Downloading data from https://ss550.liverpool.com.mx/sm/1118218430.jpg\n",
            "10480/10480 [==============================] - 0s 0us/step\n",
            "1/1 [==============================] - 0s 29ms/step\n",
            "This sandal is a Sandal with a 97.48 percent confidence.\n",
            "\n",
            "Downloading data from https://dsnegsjxz63ti.cloudfront.net/images/pg/g_326057f0f6d6ee2.jpg\n",
            "82708/82708 [==============================] - 0s 0us/step\n",
            "1/1 [==============================] - 0s 22ms/step\n",
            "This shoe is a Sandal with a 87.17 percent confidence.\n",
            "\n",
            "Downloading data from https://media.vogue.mx/photos/5c070382a5382b140c0efb1e/master/w_1800,h_1201,c_limit/los_10_tenis_mas_iconicos_que_te_duraran_toda_la_vida_imagenes_278478343.jpghttps://dpjye2wk9gi5z.cloudfront.net/wcsstore/ExtendedSitesCatalogAssetStore/images/catalog/default/1023869-0001V1.jpg\n",
            "155013/155013 [==============================] - 0s 0us/step\n",
            "1/1 [==============================] - 0s 23ms/step\n",
            "This shoe is a Shoe with a 99.54 percent confidence.\n",
            "\n",
            "Downloading data from https://media.vogue.mx/photos/5c070382a5382b140c0efb1e/master/w_1800,h_1201,c_limit/los_10_tenis_mas_iconicos_que_te_duraran_toda_la_vida_imagenes_278478343.jpg\n",
            "155013/155013 [==============================] - 0s 0us/step\n",
            "1/1 [==============================] - 0s 26ms/step\n",
            "This shoe is a Shoe with a 99.54 percent confidence.\n",
            "\n",
            "Downloading data from https://images.puma.com/image/upload/f_auto,q_auto,b_rgb:fafafa,w_480,h_480/global/384692/07/sv01/fnd/MEX/fmt/png/\n",
            "8016/8016 [==============================] - 0s 0us/step\n",
            "1/1 [==============================] - 0s 30ms/step\n",
            "This shoe is a Shoe with a 95.83 percent confidence.\n",
            "\n"
          ]
        }
      ],
      "source": [
        "from time import sleep\n",
        "# Botas\n",
        "botas = [\n",
        "    \"https://m.media-amazon.com/images/I/71zPHz0WzVL._AC_SY695_.jpg\",\n",
        "    \"https://sieteleguas.mx/3156-home_default/bota-roper-siete-leguas-track-en-piel-crazy-cafe-est-1000.jpg\",\n",
        "    \"http://cdn.shopify.com/s/files/1/0093/2144/7505/products/Alamo_Miel-Lateral1_1.jpg?v=1637171538\",\n",
        "    \"http://cdn.shopify.com/s/files/1/0241/9654/6624/products/cypress-black_grande.jpg?v=1664358198\"\n",
        "]\n",
        "\n",
        "# Sandalias\n",
        "sandalias = [\n",
        "    \"https://ss550.liverpool.com.mx/sm/1111898281.jpg\",\n",
        "    \"https://res.cloudinary.com/walmart-labs/image/upload/d_default.jpg/w_960,dpr_auto,f_auto,q_auto:best/gr/images/product-images/img_large/00750120630865L.jpg\",\n",
        "    \"https://cdn1.coppel.com/images/catalog/pr/8246302-1.jpg\",\n",
        "    \"https://ss550.liverpool.com.mx/sm/1118218430.jpg\"\n",
        "]\n",
        "\n",
        "# Tenis\n",
        "tenis = [\"https://dsnegsjxz63ti.cloudfront.net/images/pg/g_326057f0f6d6ee2.jpg\",\n",
        "         \"https://media.vogue.mx/photos/5c070382a5382b140c0efb1e/master/w_1800,h_1201,c_limit/los_10_tenis_mas_iconicos_que_te_duraran_toda_la_vida_imagenes_278478343.jpg\"\n",
        "         \"https://dpjye2wk9gi5z.cloudfront.net/wcsstore/ExtendedSitesCatalogAssetStore/images/catalog/default/1023869-0001V1.jpg\",\n",
        "         \"https://media.vogue.mx/photos/5c070382a5382b140c0efb1e/master/w_1800,h_1201,c_limit/los_10_tenis_mas_iconicos_que_te_duraran_toda_la_vida_imagenes_278478343.jpg\",\n",
        "         \"https://images.puma.com/image/upload/f_auto,q_auto,b_rgb:fafafa,w_480,h_480/global/384692/07/sv01/fnd/MEX/fmt/png/\"]\n",
        "\n",
        "tests = botas + sandalias + tenis\n",
        "names = [['boot'] * len(botas),['sandal'] * len(sandalias), ['shoe'] * len(tenis)]\n",
        "names = [item for sublist in names for item in sublist]\n",
        "total = len(tests)\n",
        "i = 0\n",
        "for url in tests:\n",
        "  name = uuid4()\n",
        "  try:\n",
        "    path = tf.keras.utils.get_file(str(name), origin=url)\n",
        "    img = tf.keras.utils.load_img(\n",
        "      path, target_size = (100, 100)\n",
        "    )\n",
        "    img_array = tf.keras.utils.img_to_array(img)\n",
        "    img_array = tf.expand_dims(img_array, 0) # Create a batch\n",
        "\n",
        "    predictions = model.predict(img_array)\n",
        "    score = tf.nn.softmax(predictions[0])\n",
        "    print(\n",
        "        \"This {} is a {} with a {:.2f} percent confidence.\"\n",
        "        .format(names[i], class_names[np.argmax(score)], 100 * np.max(score))\n",
        "    )\n",
        "    print()\n",
        "    i += 1\n",
        "  except Exception as e:\n",
        "    print(e)\n",
        " \n",
        "  "
      ]
    },
    {
      "cell_type": "markdown",
      "source": [
        "# Conclusión de la mejora del modelo\n",
        "Como podemos ver, el modelo aún se llega a confundir un poco, pero lo demás lo predice correctamente con un alto grado de seguridad.\n",
        "El learning rate era muy bajo, por lo que el modelo estaba aprendiendo demasiado lento y poco a poco, lo que nos podía estar haciendo caer en un overfitting y haciendonos predecir erroneamente.\n",
        "\n",
        "La capa de dropout nos permite que un 20% de neuronas aleatorias sean ignoradas durante el entrenamiento, lo que nos permitirá evitar el overfitting.\n",
        "\n",
        "Finalmente, 20 épocas fueron justas para que el accuracy de entrenamiento y el de validación casi convergieran, evitando así que el modelo hiciera overfitting con los datos de entrenamiento o validación.\n"
      ],
      "metadata": {
        "id": "apTML4yhGxBp"
      }
    },
    {
      "cell_type": "code",
      "source": [
        "# Para guardar el modelo.\n",
        "# model.save(\"/content/drive/MyDrive/Apuntes/7mo semestre/\")"
      ],
      "metadata": {
        "colab": {
          "base_uri": "https://localhost:8080/"
        },
        "id": "Pu4DiDKql0gi",
        "outputId": "56da591b-fa38-46a7-fcf4-3c2c9fbe9b0d"
      },
      "execution_count": null,
      "outputs": [
        {
          "output_type": "stream",
          "name": "stderr",
          "text": [
            "WARNING:absl:Found untraced functions such as _jit_compiled_convolution_op, _jit_compiled_convolution_op, _jit_compiled_convolution_op while saving (showing 3 of 3). These functions will not be directly callable after loading.\n"
          ]
        }
      ]
    },
    {
      "cell_type": "markdown",
      "metadata": {
        "id": "IsW-u-X2DqP-"
      },
      "source": []
    },
    {
      "cell_type": "code",
      "source": [],
      "metadata": {
        "id": "B2Q-hpH3HpGn"
      },
      "execution_count": null,
      "outputs": []
    }
  ],
  "metadata": {
    "accelerator": "GPU",
    "colab": {
      "provenance": []
    },
    "gpuClass": "standard",
    "kernelspec": {
      "display_name": "Python 3",
      "name": "python3"
    },
    "language_info": {
      "name": "python"
    }
  },
  "nbformat": 4,
  "nbformat_minor": 0
}